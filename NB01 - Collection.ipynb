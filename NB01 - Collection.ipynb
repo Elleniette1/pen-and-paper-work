{
 "cells": [
  {
   "cell_type": "code",
   "execution_count": 1,
   "id": "63212207",
   "metadata": {},
   "outputs": [],
   "source": [
    "\n",
    "import pandas as pd\n",
    "import numpy as np"
   ]
  },
  {
   "cell_type": "code",
   "execution_count": 2,
   "id": "7dec9832",
   "metadata": {},
   "outputs": [
    {
     "name": "stderr",
     "output_type": "stream",
     "text": [
      "<>:1: SyntaxWarning: invalid escape sequence '\\s'\n",
      "<>:1: SyntaxWarning: invalid escape sequence '\\s'\n",
      "C:\\Users\\kapla\\AppData\\Local\\Temp\\ipykernel_41268\\2298572228.py:1: SyntaxWarning: invalid escape sequence '\\s'\n",
      "  b=pd.read_excel('petro-web-scraping\\sallstationperwebsite.xlsx',index_col=0).drop_duplicates(subset=[0,1])\n"
     ]
    },
    {
     "data": {
      "application/vnd.microsoft.datawrangler.viewer.v0+json": {
       "columns": [
        {
         "name": "index",
         "rawType": "int64",
         "type": "integer"
        },
        {
         "name": "0",
         "rawType": "object",
         "type": "unknown"
        },
        {
         "name": "1",
         "rawType": "object",
         "type": "unknown"
        },
        {
         "name": "2",
         "rawType": "object",
         "type": "string"
        }
       ],
       "ref": "7f6746ac-6a39-41ed-9922-93964ecebb65",
       "rows": [
        [
         "0",
         "TAMAN MALURI",
         "Lot Pt 128, Jalan Kg Pandan, Taman Maluri, 54200 Ampang, Kuala Lumpur",
         "Kuala Lumpur"
        ],
        [
         "1",
         "KELANA JAYA",
         "Lot 2, Jalan Ss 3/39, Kelana Jaya, 47300 Petaling Jaya, Selangor",
         "Kuala Lumpur"
        ],
        [
         "2",
         "DESA MENTARI",
         "Lot Pt 621 Hs(D) 173396 Desa Mentari, Jalan Kelang Lama, Mukim Petaling, Selangor, 46150 Petaling Jaya, Selangor",
         "Kuala Lumpur"
        ],
        [
         "3",
         "BANDAR KINRARA 2",
         "Lot 4054, Phase 5A, Jalan Kinrara 6, Bandar Kinrara, 47100 Puchong, Selangor",
         "Kuala Lumpur"
        ],
        [
         "4",
         "SUNWAY BATU CAVES",
         "Lot 10903, 10904 @ 4756 Mukim Batu, 68100 Gombak, Selangor",
         "Kuala Lumpur"
        ],
        [
         "5",
         "PERSIARAN MAHKOTA CHERAS",
         "Lot 368 (Plot B), Bt. 10 1/2, Jln Cheras, Mukim Cheras, 43200 Cheras, Selangor",
         "Kuala Lumpur"
        ],
        [
         "6",
         "CHERAS PERDANA",
         "Lot 21854 (Pt 16292) Taman Cheras Perdana, 43200 Cheras, Selangor",
         "Kuala Lumpur"
        ],
        [
         "7",
         "JALAN SUNGAI TUA, GOMBAK",
         "Lot Pt 34825, Hs (D) 263792 & 93, Jalan Sungai Tua, Mukim Batu, 68100 Gombak, Selangor",
         "Kuala Lumpur"
        ],
        [
         "8",
         "TAMAN SRI GOMBAK",
         "Lot Pt 8266 Hsd 193816, Jalan Makmur, Taman Sri Gombak, 68100 Batu Caves, Selangor",
         "Kuala Lumpur"
        ],
        [
         "9",
         "BDR SERI KEMBANGAN",
         "Lot 1833 Seri Kembangan, Mk Petaling, Serdang, Selangor, 43300 Sri Kembangan, Selangor",
         "Kuala Lumpur"
        ],
        [
         "10",
         "USJ 4",
         "Lot 3870, Jln Usj 4/1, Subang Uep, 47600 Subang Jaya, Selangor",
         "Kuala Lumpur"
        ],
        [
         "11",
         "SUBANG BESTARI",
         "Lot 34419 Hs(M) 10268 & 34420, Hs(M) 10269 Subang Bestari, 40150 Sungai Buloh, Selangor",
         "Kuala Lumpur"
        ],
        [
         "12",
         "USJ 20",
         "Lot 49946 Usj 20 Mukim Damansara Selangor, 47630 Subang Jaya, Selangor",
         "Kuala Lumpur"
        ],
        [
         "13",
         "SAUJANA PUCHONG",
         "Lot Pt 16928 Hsd 61959 Taman Saujana Puchong, 47100 Puchong, Selangor",
         "Kuala Lumpur"
        ],
        [
         "14",
         "PUTRA HEIGHT",
         "Lot 3612 Hs (D) 108483, Persiaran Harmoni, Putra Height, Subang Jaya, 47400 Petaling Jaya, Selangor",
         "Kuala Lumpur"
        ],
        [
         "15",
         "BUKIT RAHMAN PUTRA",
         "Lot Pt 33428 Grn 41170, Pekan Baru Sungai Buluh, Jalan Bukit Rahman Putra, 47000 Petaling, Selangor",
         "Kuala Lumpur"
        ],
        [
         "16",
         "TAMAN MERANTI JAYA",
         "Lot 13985, Taman Meranti Jaya, 47100 Puchong, Selangor",
         "Kuala Lumpur"
        ],
        [
         "17",
         "PRIMA SAUJANA 2",
         "Lot 17892 Sublot A, Taman Prima Saujana, 43000 Kajang, Selangor",
         "Kuala Lumpur"
        ],
        [
         "18",
         "PUTRAJAYA PRECINT 9D",
         "Lot Pt 836, Precint 9, 62250 , Putrajaya",
         "Putrajaya"
        ],
        [
         "19",
         "UNIKEB 2",
         "Lot 7 & 9 Jalan 4/1 Seksyen 4, Bandar Baru Bangi, 43650 Bangi, Selangor",
         "Putrajaya"
        ],
        [
         "20",
         "BDR SAUJANA PUTRA",
         "Lot 26103, Jalan Sp 4/31, Bandar Saujana Putra, 42610 Kuala Langat, Selangor",
         "Putrajaya"
        ],
        [
         "21",
         "PERSIARAN JAYA",
         "Lot Pt 28768, Hs(M) 21664, Bandar Baru Bangi Industrial Zon 1, Sungai Ramal Dalam, 43000 Kajang, Selangor",
         "Putrajaya"
        ],
        [
         "22",
         "TMN PELANGI SEMENYIH",
         "Lot 26796 Pelangi Semenyih, Mukim Semenyih, 43500 Hulu Langat, Selangor",
         "Putrajaya"
        ],
        [
         "23",
         "TAMAN ALAM MEGA",
         "Lot Pt 5052, Jalan Tanah Liat, Seksyen 28, Taman Alam Megah, 40400 Shah Alam, Selangor",
         "Putrajaya"
        ],
        [
         "24",
         "SG JATI ARAH KELANG",
         "Lot 2555 Gm 944 & Lot 2556 Gm 1649, Mukim Of Klang, 41000 Klang, Selangor",
         "Subang Jaya, Selangor"
        ],
        [
         "25",
         "JLN KLANG - BANTING",
         "Lot Pt 10116, Hs(M) 10766, Mukim Telok Panglima Garang, 42500 Kuala Langat, Selangor",
         "Subang Jaya, Selangor"
        ],
        [
         "26",
         "BUKIT TINGGI 2",
         "Lot 1 Bandar Bukit Tinggi Klang Selangor, 41200 Klang, Selangor",
         "Subang Jaya, Selangor"
        ],
        [
         "27",
         "KAMPUNG MELAYU SUBANG",
         "Lot Pt 38368 Jln Sungai Buloh, Kg Melayu Subang, Sungai Buloh, 47000 Shah Alam, Selangor",
         "Subang Jaya, Selangor"
        ],
        [
         "28",
         "PANDAMAR INDAH 2",
         "H.S. (D) 26752 Pt 26387 Tmn Pandamar Indah Ii Mukim Klang, 42000 Klang, Selangor",
         "Klang, Selangor"
        ],
        [
         "29",
         "TAMAN KOTA PENDAMAR",
         "Lot 137939, Lebuhraya Pelabuhan Barat/KS05, Taman Kota Pendamar, 42000 Klang, Selangor",
         "Klang, Selangor"
        ],
        [
         "30",
         "JLN LOBAK",
         "Lot 5890 Jalan Lobak, Seremban, 70100 Seremban, Negeri Sembilan",
         "Semenyih, Selangor"
        ],
        [
         "31",
         "S2 CITY PARK",
         "Lot C, Part Of Lot Pt 6283 Hs(D) 109226, Bandar Seremban 2, Mukim Rasah, 70300 Seremban, Negeri Sembilan",
         "Semenyih, Selangor"
        ],
        [
         "32",
         "BANDAR BARU SENDAYAN",
         "Pt 12695, Persiaran Sendayan Baru, Bandar Sri Sendayan, 71950 Negeri Sembilan, Negeri Sembilan",
         "Bandar Baru Salak Tinggi, Selangor"
        ],
        [
         "33",
         "MATAHARI HEIGHTS",
         "Lot 1846 Pn 648 (Lot.Pt 4087 Hsd 154332) Mk.Ampangan, Matahari Height, Pst.Bdr Senawang, 70450 Seremban, Negeri Sembilan",
         "Beranang, Selangor"
        ],
        [
         "34",
         "JALAN LANGKASUKA",
         "Lot Ptb 20457, Hs(D) 303968, Jalan Langkasuka, Mukim Bandar Johor Bharu, Johor, 81200 Mukim Bandar, Johor",
         "Johor Bahru, Johor"
        ],
        [
         "35",
         "BANDAR BARU UDA 2",
         "Lot Ptb 16964, Jalan Padi Malinja 3, Bandar Baru Uda, 81200 Johor Bahru, Johor",
         "Johor Bahru, Johor"
        ],
        [
         "36",
         "BANDAR BARU UDA 1",
         "Lot 12105, Bandar Baru Uda, Batu 4 1/2, Jln Skudai, 81200 Johor Bahru, Johor",
         "Johor Bahru, Johor"
        ],
        [
         "37",
         "KEMPAS BARU 2",
         "Lot 42965, Mukim Tebrau, Jalan Kempas Baru, 81200 Johor Bahru, Johor",
         "Johor Bahru, Johor"
        ],
        [
         "38",
         "TAMAN TAMPOI UTAMA",
         "Lot 60266, Taman Tampoi Utama, 81200 Johor Bahru, Johor",
         "Johor Bahru, Johor"
        ],
        [
         "39",
         "TAMAN BUKIT KEMPAS",
         "Lot 9492, No.2, Jalan Bukit Kempas 1/5, Taman Bukit Kempas, 81200 Johor Bahru, Johor",
         "Johor Bahru, Johor"
        ],
        [
         "40",
         "TAMAN DESA JAYA",
         "Lot 69921, Taman Desa Jaya, 81100 Johor Bahru, Johor",
         "Johor Bahru, Johor"
        ],
        [
         "41",
         "JLN KEMPAS LAMA",
         "Lot Ptd 64876 & 64877 Hs(D) 216844/45, Jalan Kempas Lama, Mkm Tebrau, 81100 Johor Bharu, Johor",
         "Johor Bahru, Johor"
        ],
        [
         "42",
         "TAMAN PERLING",
         "Lot 31222, Hs (D) 114738, Lot 50844, Taman Perling, Mukim Pulai, Johor Bharu, 85000 Mukim Pulai, Johor",
         "Johor Bahru, Johor"
        ],
        [
         "43",
         "KM 13 JALAN SKUDAI",
         "Lot 1283, Gm 679, Mukim Pulai, Skudai Highway, Johor Bharu, Johor, 81000 Pulai, Johor",
         "Johor Bahru, Johor"
        ],
        [
         "44",
         "TMN PUTERI WANGSA",
         "Lot Ptd 26080, Taman Putri Wangsa, Mukim Tebrau, 81800 Johor Bahru, Johor",
         "Johor Bahru, Johor"
        ],
        [
         "45",
         "MUTIARA RINI",
         "Lot Ptd 81817, Mutiara Rini, 81300 Skudai, Johor",
         "Johor Bahru, Johor"
        ],
        [
         "46",
         "PULAI PERDANA",
         "Ptd 111148, Tmn Sri Pulai Perdana, Johor Bharu, 81110 Johor Bharu, Johor",
         "Johor Bahru, Johor"
        ],
        [
         "47",
         "TAMAN AMAN",
         "Hs(M) 383 Lot Pt 4611 & Hs(M) 1603, Lot Mlo 5520 Mukim Senai-Kulai, Skudai-Senai Highway, 81000 Johor Bahru, Johor",
         "Johor Bahru, Johor"
        ],
        [
         "48",
         "TMN CAHAYA MASAI",
         "New Lot Ptd 160926 Hs (D) 338709, Taman Cahaya Masai, Mukim Plentong, 81750 Johor Bahru, Johor",
         "Johor Bahru, Johor"
        ],
        [
         "49",
         "KOTA MASAI",
         "Ptd 129028 Kota Masai, 81750 Mukim Plentong, Johor",
         "Johor Bahru, Johor"
        ]
       ],
       "shape": {
        "columns": 3,
        "rows": 1051
       }
      },
      "text/html": [
       "<div>\n",
       "<style scoped>\n",
       "    .dataframe tbody tr th:only-of-type {\n",
       "        vertical-align: middle;\n",
       "    }\n",
       "\n",
       "    .dataframe tbody tr th {\n",
       "        vertical-align: top;\n",
       "    }\n",
       "\n",
       "    .dataframe thead th {\n",
       "        text-align: right;\n",
       "    }\n",
       "</style>\n",
       "<table border=\"1\" class=\"dataframe\">\n",
       "  <thead>\n",
       "    <tr style=\"text-align: right;\">\n",
       "      <th></th>\n",
       "      <th>0</th>\n",
       "      <th>1</th>\n",
       "      <th>2</th>\n",
       "    </tr>\n",
       "  </thead>\n",
       "  <tbody>\n",
       "    <tr>\n",
       "      <th>0</th>\n",
       "      <td>TAMAN MALURI</td>\n",
       "      <td>Lot Pt 128, Jalan Kg Pandan, Taman Maluri, 542...</td>\n",
       "      <td>Kuala Lumpur</td>\n",
       "    </tr>\n",
       "    <tr>\n",
       "      <th>1</th>\n",
       "      <td>KELANA JAYA</td>\n",
       "      <td>Lot 2, Jalan Ss 3/39, Kelana Jaya, 47300 Petal...</td>\n",
       "      <td>Kuala Lumpur</td>\n",
       "    </tr>\n",
       "    <tr>\n",
       "      <th>2</th>\n",
       "      <td>DESA MENTARI</td>\n",
       "      <td>Lot Pt 621 Hs(D) 173396 Desa Mentari, Jalan Ke...</td>\n",
       "      <td>Kuala Lumpur</td>\n",
       "    </tr>\n",
       "    <tr>\n",
       "      <th>3</th>\n",
       "      <td>BANDAR KINRARA 2</td>\n",
       "      <td>Lot 4054, Phase 5A, Jalan Kinrara 6, Bandar Ki...</td>\n",
       "      <td>Kuala Lumpur</td>\n",
       "    </tr>\n",
       "    <tr>\n",
       "      <th>4</th>\n",
       "      <td>SUNWAY BATU CAVES</td>\n",
       "      <td>Lot 10903, 10904 @ 4756 Mukim Batu, 68100 Gomb...</td>\n",
       "      <td>Kuala Lumpur</td>\n",
       "    </tr>\n",
       "    <tr>\n",
       "      <th>...</th>\n",
       "      <td>...</td>\n",
       "      <td>...</td>\n",
       "      <td>...</td>\n",
       "    </tr>\n",
       "    <tr>\n",
       "      <th>1046</th>\n",
       "      <td>STAKAN</td>\n",
       "      <td>Lot 5688, Block 25, Mauara Tuang Land District...</td>\n",
       "      <td>Kota Samarahan, Sarawak</td>\n",
       "    </tr>\n",
       "    <tr>\n",
       "      <th>1047</th>\n",
       "      <td>TASIK BIRU</td>\n",
       "      <td>No. 704 (Sublot 21) Tasik Biru Commercial Cent...</td>\n",
       "      <td>Kota Samarahan, Sarawak</td>\n",
       "    </tr>\n",
       "    <tr>\n",
       "      <th>1048</th>\n",
       "      <td>SEJINGKAT</td>\n",
       "      <td>Lot 1197, Blok 1, Demak Laut, Sejingkat, 93720...</td>\n",
       "      <td>Kota Samarahan, Sarawak</td>\n",
       "    </tr>\n",
       "    <tr>\n",
       "      <th>1049</th>\n",
       "      <td>GREEN HEIGHT</td>\n",
       "      <td>Lot 4772, Block 16, Jalan Kuching By-Pass/Jala...</td>\n",
       "      <td>Kota Samarahan, Sarawak</td>\n",
       "    </tr>\n",
       "    <tr>\n",
       "      <th>1050</th>\n",
       "      <td>BATU 7 KUCHING-SERIAN</td>\n",
       "      <td>Lot 1849 Knld, 7Th. Mile, Kuching - Serian Roa...</td>\n",
       "      <td>Kota Samarahan, Sarawak</td>\n",
       "    </tr>\n",
       "  </tbody>\n",
       "</table>\n",
       "<p>1051 rows × 3 columns</p>\n",
       "</div>"
      ],
      "text/plain": [
       "                          0  \\\n",
       "0              TAMAN MALURI   \n",
       "1               KELANA JAYA   \n",
       "2              DESA MENTARI   \n",
       "3          BANDAR KINRARA 2   \n",
       "4         SUNWAY BATU CAVES   \n",
       "...                     ...   \n",
       "1046                 STAKAN   \n",
       "1047             TASIK BIRU   \n",
       "1048              SEJINGKAT   \n",
       "1049           GREEN HEIGHT   \n",
       "1050  BATU 7 KUCHING-SERIAN   \n",
       "\n",
       "                                                      1  \\\n",
       "0     Lot Pt 128, Jalan Kg Pandan, Taman Maluri, 542...   \n",
       "1     Lot 2, Jalan Ss 3/39, Kelana Jaya, 47300 Petal...   \n",
       "2     Lot Pt 621 Hs(D) 173396 Desa Mentari, Jalan Ke...   \n",
       "3     Lot 4054, Phase 5A, Jalan Kinrara 6, Bandar Ki...   \n",
       "4     Lot 10903, 10904 @ 4756 Mukim Batu, 68100 Gomb...   \n",
       "...                                                 ...   \n",
       "1046  Lot 5688, Block 25, Mauara Tuang Land District...   \n",
       "1047  No. 704 (Sublot 21) Tasik Biru Commercial Cent...   \n",
       "1048  Lot 1197, Blok 1, Demak Laut, Sejingkat, 93720...   \n",
       "1049  Lot 4772, Block 16, Jalan Kuching By-Pass/Jala...   \n",
       "1050  Lot 1849 Knld, 7Th. Mile, Kuching - Serian Roa...   \n",
       "\n",
       "                            2  \n",
       "0                Kuala Lumpur  \n",
       "1                Kuala Lumpur  \n",
       "2                Kuala Lumpur  \n",
       "3                Kuala Lumpur  \n",
       "4                Kuala Lumpur  \n",
       "...                       ...  \n",
       "1046  Kota Samarahan, Sarawak  \n",
       "1047  Kota Samarahan, Sarawak  \n",
       "1048  Kota Samarahan, Sarawak  \n",
       "1049  Kota Samarahan, Sarawak  \n",
       "1050  Kota Samarahan, Sarawak  \n",
       "\n",
       "[1051 rows x 3 columns]"
      ]
     },
     "metadata": {},
     "output_type": "display_data"
    }
   ],
   "source": [
    "b=pd.read_excel('petro-web-scraping\\sallstationperwebsite.xlsx',index_col=0).drop_duplicates(subset=[0,1])\n",
    "display(b)"
   ]
  },
  {
   "cell_type": "code",
   "execution_count": 4,
   "id": "f1a4c305",
   "metadata": {},
   "outputs": [
    {
     "name": "stderr",
     "output_type": "stream",
     "text": [
      "<>:1: SyntaxWarning: invalid escape sequence '\\s'\n",
      "<>:1: SyntaxWarning: invalid escape sequence '\\s'\n",
      "C:\\Users\\kapla\\AppData\\Local\\Temp\\ipykernel_41268\\291287350.py:1: SyntaxWarning: invalid escape sequence '\\s'\n",
      "  b.to_excel('petro-web-scraping\\semuaoutletsperwebsite.xlsx')\n"
     ]
    }
   ],
   "source": [
    "b.to_excel('petro-web-scraping\\semuaoutletsperwebsite.xlsx')"
   ]
  }
 ],
 "metadata": {
  "kernelspec": {
   "display_name": "Python 3",
   "language": "python",
   "name": "python3"
  },
  "language_info": {
   "codemirror_mode": {
    "name": "ipython",
    "version": 3
   },
   "file_extension": ".py",
   "mimetype": "text/x-python",
   "name": "python",
   "nbconvert_exporter": "python",
   "pygments_lexer": "ipython3",
   "version": "3.13.5"
  }
 },
 "nbformat": 4,
 "nbformat_minor": 5
}
