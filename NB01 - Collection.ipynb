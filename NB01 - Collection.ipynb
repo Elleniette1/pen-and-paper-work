{
 "cells": [
  {
   "cell_type": "code",
   "execution_count": 1,
   "id": "63212207",
   "metadata": {},
   "outputs": [],
   "source": [
    "import requests\n",
    "from bs4 import BeautifulSoup\n",
    "import pandas as pd\n",
    "import numpy as np"
   ]
  },
  {
   "cell_type": "code",
   "execution_count": null,
   "id": "9696f015",
   "metadata": {},
   "outputs": [],
   "source": [
    "def open_html(path):\n",
    "    with open(path, 'rb') as f:\n",
    "        return f.read()\n",
    "    \n",
    "html = open_html('Collection.html')"
   ]
  },
  {
   "cell_type": "code",
   "execution_count": null,
   "id": "9ab2ada8",
   "metadata": {},
   "outputs": [
    {
     "name": "stdout",
     "output_type": "stream",
     "text": [
      "b'\\r\\n<!DOCTYPE html>\\r\\n<html id=\"htmltag\" xmlns=\"http://www.w3.org/1999/xhtml\" lang=\"en\">\\r\\n<head><title>'\n"
     ]
    }
   ],
   "source": [
    "url = 'https://www.mymesra.com.my/petrol-station-finder'\n",
    "r = requests.get(url)\n",
    "print(r.content[:100])"
   ]
  },
  {
   "cell_type": "code",
   "execution_count": 3,
   "id": "7dec9832",
   "metadata": {},
   "outputs": [],
   "source": [
    "soup = BeautifulSoup(r.content, 'html.parser')"
   ]
  }
 ],
 "metadata": {
  "kernelspec": {
   "display_name": "Python 3",
   "language": "python",
   "name": "python3"
  },
  "language_info": {
   "codemirror_mode": {
    "name": "ipython",
    "version": 3
   },
   "file_extension": ".py",
   "mimetype": "text/x-python",
   "name": "python",
   "nbconvert_exporter": "python",
   "pygments_lexer": "ipython3",
   "version": "3.13.2"
  }
 },
 "nbformat": 4,
 "nbformat_minor": 5
}
